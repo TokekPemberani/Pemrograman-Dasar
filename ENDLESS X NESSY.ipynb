{
  "nbformat": 4,
  "nbformat_minor": 0,
  "metadata": {
    "colab": {
      "provenance": [],
      "authorship_tag": "ABX9TyMakcI4lA51UGRilje39N1P",
      "include_colab_link": true
    },
    "kernelspec": {
      "name": "python3",
      "display_name": "Python 3"
    },
    "language_info": {
      "name": "python"
    }
  },
  "cells": [
    {
      "cell_type": "markdown",
      "metadata": {
        "id": "view-in-github",
        "colab_type": "text"
      },
      "source": [
        "<a href=\"https://colab.research.google.com/github/TokekPemberani/Pemrograman-Dasar/blob/main/ENDLESS%20X%20NESSY.ipynb\" target=\"_parent\"><img src=\"https://colab.research.google.com/assets/colab-badge.svg\" alt=\"Open In Colab\"/></a>"
      ]
    },
    {
      "cell_type": "code",
      "execution_count": 2,
      "metadata": {
        "colab": {
          "base_uri": "https://localhost:8080/"
        },
        "id": "zY4xqT-RLql_",
        "outputId": "9b5abe6d-79de-4ff4-804d-06ad6d0ab620"
      },
      "outputs": [
        {
          "output_type": "stream",
          "name": "stdout",
          "text": [
            "--- Endless Karaoke Event Schedule with Nessy ---\n",
            "19:00 - 19:30: Opening and Welcome (featuring Nessy)\n",
            "19:30 - 20:30: First Karaoke Session: Popular Songs\n",
            "20:30 - 21:00: Interactive Games with Nessy\n",
            "21:00 - 22:00: Second Karaoke Session: Audience Choice Songs\n",
            "22:00 - 22:30: Game Winners and Doorprize Announcement (presented by Nessy)\n",
            "22:30 - End: Free Karaoke and Closing\n",
            "-------------------------------------------------\n"
          ]
        }
      ],
      "source": [
        "def nessy_karaoke_schedule():\n",
        "  \"\"\"Generates a schedule for a karaoke event with Nessy as the mascot.\"\"\"\n",
        "\n",
        "  schedule = {\n",
        "      \"19:00 - 19:30\": \"Opening and Welcome (featuring Nessy)\",\n",
        "      \"19:30 - 20:30\": \"First Karaoke Session: Popular Songs\",\n",
        "      \"20:30 - 21:00\": \"Interactive Games with Nessy\",\n",
        "      \"21:00 - 22:00\": \"Second Karaoke Session: Audience Choice Songs\",\n",
        "      \"22:00 - 22:30\": \"Game Winners and Doorprize Announcement (presented by Nessy)\",\n",
        "      \"22:30 - End\": \"Free Karaoke and Closing\"\n",
        "  }\n",
        "\n",
        "  print(\"--- Endless Karaoke Event Schedule with Nessy ---\")\n",
        "  for time, activity in schedule.items():\n",
        "    print(f\"{time}: {activity}\")\n",
        "  print(\"-------------------------------------------------\")\n",
        "\n",
        "# Call the function to display the schedule\n",
        "nessy_karaoke_schedule()"
      ]
    }
  ]
}