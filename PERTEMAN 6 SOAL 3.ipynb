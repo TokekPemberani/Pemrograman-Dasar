{
  "nbformat": 4,
  "nbformat_minor": 0,
  "metadata": {
    "colab": {
      "provenance": [],
      "authorship_tag": "ABX9TyOvwwaKzt+kvAX8YbMe3kNp",
      "include_colab_link": true
    },
    "kernelspec": {
      "name": "python3",
      "display_name": "Python 3"
    },
    "language_info": {
      "name": "python"
    }
  },
  "cells": [
    {
      "cell_type": "markdown",
      "metadata": {
        "id": "view-in-github",
        "colab_type": "text"
      },
      "source": [
        "<a href=\"https://colab.research.google.com/github/TokekPemberani/Pemrograman-Dasar/blob/main/PERTEMAN%206%20SOAL%203.ipynb\" target=\"_parent\"><img src=\"https://colab.research.google.com/assets/colab-badge.svg\" alt=\"Open In Colab\"/></a>"
      ]
    },
    {
      "cell_type": "code",
      "source": [
        "def hitung_rata_rata(data_nilai):\n",
        "    \"\"\"Menghitung rata-rata dari list angka dengan validasi nilai.\"\"\"\n",
        "    total = 0\n",
        "    jumlah_data = 0\n",
        "\n",
        "    # Perulangan untuk menjumlahkan nilai\n",
        "    for nilai in data_nilai:\n",
        "        # Pengecekan nilai valid\n",
        "        if 0 <= nilai <= 100:\n",
        "            total += nilai\n",
        "            jumlah_data += 1\n",
        "        else:\n",
        "            print(f\"WOI SALAH !! Nilai {nilai} diabaikan (tidak valid).\")\n",
        "\n",
        "    # Pembagian untuk rata-rata\n",
        "    if jumlah_data > 0:\n",
        "        return total / jumlah_data\n",
        "    return 0\n",
        "\n",
        "# Pemanggilan:\n",
        "nilai_praktikan = [85, -5, 120, 78, 92, 65, 90]\n",
        "print(f\"Nilai rata-rata kelas adalah: {hitung_rata_rata(nilai_praktikan)}\")"
      ],
      "metadata": {
        "colab": {
          "base_uri": "https://localhost:8080/"
        },
        "id": "geFd4jTzj7Cm",
        "outputId": "af25feb5-62ca-40d2-95f9-54abc6b03acf"
      },
      "execution_count": 10,
      "outputs": [
        {
          "output_type": "stream",
          "name": "stdout",
          "text": [
            "WOI SALAH !! Nilai -5 diabaikan (tidak valid).\n",
            "WOI SALAH !! Nilai 120 diabaikan (tidak valid).\n",
            "Nilai rata-rata kelas adalah: 82.0\n"
          ]
        }
      ]
    }
  ]
}