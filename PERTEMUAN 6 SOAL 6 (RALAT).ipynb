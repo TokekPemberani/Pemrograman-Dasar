{
  "nbformat": 4,
  "nbformat_minor": 0,
  "metadata": {
    "colab": {
      "provenance": [],
      "authorship_tag": "ABX9TyPqJNCWdzqYn/uuKjrNX0qP",
      "include_colab_link": true
    },
    "kernelspec": {
      "name": "python3",
      "display_name": "Python 3"
    },
    "language_info": {
      "name": "python"
    }
  },
  "cells": [
    {
      "cell_type": "markdown",
      "metadata": {
        "id": "view-in-github",
        "colab_type": "text"
      },
      "source": [
        "<a href=\"https://colab.research.google.com/github/TokekPemberani/Pemrograman-Dasar/blob/main/PERTEMUAN%206%20SOAL%206%20(RALAT).ipynb\" target=\"_parent\"><img src=\"https://colab.research.google.com/assets/colab-badge.svg\" alt=\"Open In Colab\"/></a>"
      ]
    },
    {
      "cell_type": "code",
      "source": [
        "# Asumsikan fungsi analisis_suhu sudah didefinisikan\n",
        "# def analisis_suhu(data_suhu, batas_panas=35, batas_dingin=15):\n",
        "#    ... (kode fungsi)\n",
        "#    return panas_count, dingin_count\n",
        "\n",
        "# Pemanggilan dengan nilai default\n",
        "suhu_mingguan = [36, 30, 14, 25, 38, 16, 28]\n",
        "jumlah_panas, jumlah_dingin = analisis_suhu(suhu_mingguan)\n",
        "print(f\"Jumlah hari Panas (>=35°C): {jumlah_panas}\")\n",
        "print(f\"Jumlah hari Dingin (<=15°C): {jumlah_dingin}\")\n",
        "\n",
        "# Pemanggilan dengan batas suhu berbeda\n",
        "jumlah_panas2, jumlah_dingin2 = analisis_suhu(suhu_mingguan, batas_panas=33, batas_dingin=18)\n",
        "print(f\"[Pengaturan baru] Jumlah hari Panas (>=33°C): {jumlah_panas2}\")\n",
        "print(f\"[Pengaturan baru] Jumlah hari Dingin (<=18°C): {jumlah_dingin2}\")"
      ],
      "metadata": {
        "colab": {
          "base_uri": "https://localhost:8080/"
        },
        "id": "ymdD3Crozy09",
        "outputId": "3debc357-7222-4830-db11-a21cb50bd2c4"
      },
      "execution_count": 23,
      "outputs": [
        {
          "output_type": "stream",
          "name": "stdout",
          "text": [
            "Jumlah hari Panas (>=35°C): 2\n",
            "Jumlah hari Dingin (<=15°C): 1\n",
            "[Pengaturan baru] Jumlah hari Panas (>=33°C): 2\n",
            "[Pengaturan baru] Jumlah hari Dingin (<=18°C): 2\n"
          ]
        }
      ]
    }
  ]
}