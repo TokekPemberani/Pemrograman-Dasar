{
  "nbformat": 4,
  "nbformat_minor": 0,
  "metadata": {
    "colab": {
      "provenance": [],
      "authorship_tag": "ABX9TyPDaXdU3pz11ZZVLn1zSTQA",
      "include_colab_link": true
    },
    "kernelspec": {
      "name": "python3",
      "display_name": "Python 3"
    },
    "language_info": {
      "name": "python"
    }
  },
  "cells": [
    {
      "cell_type": "markdown",
      "metadata": {
        "id": "view-in-github",
        "colab_type": "text"
      },
      "source": [
        "<a href=\"https://colab.research.google.com/github/TokekPemberani/Pemrograman-Dasar/blob/main/quiz.ipynb\" target=\"_parent\"><img src=\"https://colab.research.google.com/assets/colab-badge.svg\" alt=\"Open In Colab\"/></a>"
      ]
    },
    {
      "cell_type": "code",
      "source": [
        "# Program simulasi menyapu ruangan menggunakan perulangan (looping)\n",
        "\n",
        "jumlah_ruangan = int(input(\"Masukkan jumlah ruangan yang akan disapu: \"))\n",
        "\n",
        "# Menggunakan perulangan for\n",
        "for i in range(1, jumlah_ruangan + 1):\n",
        "    print(f\"Menyapu ruangan ke-{i}... ✅\")\n",
        "\n",
        "print(\"Semua ruangan sudah selesai disapu! 🎉\")\n"
      ],
      "metadata": {
        "colab": {
          "base_uri": "https://localhost:8080/"
        },
        "id": "6aEpUnHSfDpL",
        "outputId": "9d7285c2-e7a1-48f5-b47c-7ae6ee3b3141"
      },
      "execution_count": 2,
      "outputs": [
        {
          "output_type": "stream",
          "name": "stdout",
          "text": [
            "Masukkan jumlah ruangan yang akan disapu: 2\n",
            "Menyapu ruangan ke-1... ✅\n",
            "Menyapu ruangan ke-2... ✅\n",
            "Semua ruangan sudah selesai disapu! 🎉\n"
          ]
        }
      ]
    }
  ]
}