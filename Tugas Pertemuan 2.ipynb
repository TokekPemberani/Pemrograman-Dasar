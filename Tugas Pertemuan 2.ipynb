{
  "nbformat": 4,
  "nbformat_minor": 0,
  "metadata": {
    "colab": {
      "provenance": [],
      "authorship_tag": "ABX9TyPaTtl9EuBsDZY8Lq7IcyZ5",
      "include_colab_link": true
    },
    "kernelspec": {
      "name": "python3",
      "display_name": "Python 3"
    },
    "language_info": {
      "name": "python"
    }
  },
  "cells": [
    {
      "cell_type": "markdown",
      "metadata": {
        "id": "view-in-github",
        "colab_type": "text"
      },
      "source": [
        "<a href=\"https://colab.research.google.com/github/TokekPemberani/Pemrograman-Dasar/blob/main/Tugas%20Pertemuan%202.ipynb\" target=\"_parent\"><img src=\"https://colab.research.google.com/assets/colab-badge.svg\" alt=\"Open In Colab\"/></a>"
      ]
    },
    {
      "cell_type": "code",
      "source": [
        "#data diri\n",
        "firstName = \"Radot\"\n",
        "lastName = \"Nainggolan\"\n",
        "age = 20\n",
        "isMarried = False\n",
        "\n",
        "print (firstName)\n",
        "print (lastName)\n",
        "print (age)\n",
        "print (isMarried)"
      ],
      "metadata": {
        "colab": {
          "base_uri": "https://localhost:8080/"
        },
        "id": "z8xIebSkxMpv",
        "outputId": "b87342e8-a656-4041-fc22-f1817d6e32a2"
      },
      "execution_count": 1,
      "outputs": [
        {
          "output_type": "stream",
          "name": "stdout",
          "text": [
            "Radot\n",
            "Nainggolan\n",
            "20\n",
            "False\n"
          ]
        }
      ]
    },
    {
      "cell_type": "code",
      "source": [
        "#data diri dengan dictionary\n",
        "datadiri = {\"firstName\": \"Radot\", \"lastName\": \"Nainggolan\", \"age\": 20, \"isMarried\": False}\n",
        "print (datadiri)"
      ],
      "metadata": {
        "colab": {
          "base_uri": "https://localhost:8080/"
        },
        "id": "RGAXeEaYxmLI",
        "outputId": "b00ecb8f-125b-4d77-e405-b592890e45bc"
      },
      "execution_count": 2,
      "outputs": [
        {
          "output_type": "stream",
          "name": "stdout",
          "text": [
            "{'firstName': 'Radot', 'lastName': 'Nainggolan', 'age': 20, 'isMarried': False}\n"
          ]
        }
      ]
    },
    {
      "cell_type": "code",
      "source": [
        "inspeksi = [\"pemahaman terhadap rencana dan desain\",\"ketersediaan bahan dan peralatan\",\"pengawasan pekerjaan\",\"kualitas konstruksi\",\"keselamatan kerja\",\"koordinasi dengan pemilik proyek\"]\n",
        "\n",
        "print (inspeksi)"
      ],
      "metadata": {
        "colab": {
          "base_uri": "https://localhost:8080/"
        },
        "id": "L4I-gaSfx590",
        "outputId": "cc9b4d88-07b2-42b7-d424-8f07df2db27e"
      },
      "execution_count": 3,
      "outputs": [
        {
          "output_type": "stream",
          "name": "stdout",
          "text": [
            "['pemahaman terhadap rencana dan desain', 'ketersediaan bahan dan peralatan', 'pengawasan pekerjaan', 'kualitas konstruksi', 'keselamatan kerja', 'koordinasi dengan pemilik proyek']\n"
          ]
        }
      ]
    },
    {
      "cell_type": "code",
      "source": [
        "# Waktu datang\n",
        "startTime = {\"HH\": 9,\"mm\": 23,\"ss\": 57}\n",
        "\n",
        "# Waktu pulang\n",
        "endTime = {\"HH\": 15,\"mm\": 25,\"ss\": 43}\n",
        "\n",
        "print (startTime)\n",
        "print (endTime)\n",
        "\n",
        "{'HH': 9, 'mm': 23, 'ss': 57}\n",
        "{'HH': 15, 'mm': 25, 'ss': 43}"
      ],
      "metadata": {
        "colab": {
          "base_uri": "https://localhost:8080/"
        },
        "id": "UgDWITeux_uS",
        "outputId": "215f06a8-378c-4223-947a-e259c7274fd3"
      },
      "execution_count": 4,
      "outputs": [
        {
          "output_type": "stream",
          "name": "stdout",
          "text": [
            "{'HH': 9, 'mm': 23, 'ss': 57}\n",
            "{'HH': 15, 'mm': 25, 'ss': 43}\n"
          ]
        },
        {
          "output_type": "execute_result",
          "data": {
            "text/plain": [
              "{'HH': 15, 'mm': 25, 'ss': 43}"
            ]
          },
          "metadata": {},
          "execution_count": 4
        }
      ]
    },
    {
      "cell_type": "code",
      "source": [
        "# Katalog produk dari dua pemasok\n",
        "katalog_A = {\"Laptop\", \"Smartphone\", \"Tablet\", \"Headphone\"}\n",
        "katalog_B = {\"Smartwatch\", \"Tablet\", \"Laptop\", \"Kamera\"}\n",
        "\n",
        "# Daftar produk yang sedang diskon\n",
        "produk_diskon = (\"Laptop\", \"Kamera\", \"Speaker\")\n",
        "\n",
        "# 1. Gabungan katalog_A dan katalog_B\n",
        "katalog_lengkap = katalog_A.union(katalog_B)\n",
        "\n",
        "# 2. Produk yang ada di katalog_lengkap dan juga di produk_diskon\n",
        "produk_promo_aktif = katalog_lengkap.intersection(produk_diskon)\n",
        "\n",
        "print (katalog_lengkap)\n",
        "print (produk_promo_aktif)"
      ],
      "metadata": {
        "colab": {
          "base_uri": "https://localhost:8080/"
        },
        "id": "d4EDFzPiyBeI",
        "outputId": "af5b60ea-7f83-4cab-cf3a-b36023b79c3a"
      },
      "execution_count": 5,
      "outputs": [
        {
          "output_type": "stream",
          "name": "stdout",
          "text": [
            "{'Headphone', 'Kamera', 'Tablet', 'Smartphone', 'Smartwatch', 'Laptop'}\n",
            "{'Laptop', 'Kamera'}\n"
          ]
        }
      ]
    }
  ]
}