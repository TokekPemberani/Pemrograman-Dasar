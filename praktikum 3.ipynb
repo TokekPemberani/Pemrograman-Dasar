{
  "nbformat": 4,
  "nbformat_minor": 0,
  "metadata": {
    "colab": {
      "provenance": [],
      "authorship_tag": "ABX9TyM8JxVu9JNJSsoy3AI8dknC",
      "include_colab_link": true
    },
    "kernelspec": {
      "name": "python3",
      "display_name": "Python 3"
    },
    "language_info": {
      "name": "python"
    }
  },
  "cells": [
    {
      "cell_type": "markdown",
      "metadata": {
        "id": "view-in-github",
        "colab_type": "text"
      },
      "source": [
        "<a href=\"https://colab.research.google.com/github/TokekPemberani/Pemrograman-Dasar/blob/main/praktikum%203.ipynb\" target=\"_parent\"><img src=\"https://colab.research.google.com/assets/colab-badge.svg\" alt=\"Open In Colab\"/></a>"
      ]
    },
    {
      "cell_type": "code",
      "source": [
        "print(\"--- Soal 3 ---\")\n",
        "\n",
        "# Daftar harga barang (minimal 10 item)\n",
        "harga_barang = [15000, 25000, 10000, 5000, 12000, 30000, 7500, 18000, 22000, 16000]\n",
        "\n",
        "# Variabel penampung total\n",
        "total_belanja = 0\n",
        "\n",
        "# Perulangan untuk menjumlahkan seluruh harga\n",
        "for harga in harga_barang:\n",
        "    total_belanja += harga\n",
        "\n",
        "print(\"Total biaya belanja adalah:\", total_belanja)\n"
      ],
      "metadata": {
        "colab": {
          "base_uri": "https://localhost:8080/"
        },
        "id": "MddCj4dpiyuL",
        "outputId": "608a6994-bc4a-4b7c-e5b5-28d06013df21"
      },
      "execution_count": 4,
      "outputs": [
        {
          "output_type": "stream",
          "name": "stdout",
          "text": [
            "--- Soal 3 ---\n",
            "Total biaya belanja adalah: 160500\n"
          ]
        }
      ]
    }
  ]
}