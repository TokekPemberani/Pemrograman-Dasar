{
  "nbformat": 4,
  "nbformat_minor": 0,
  "metadata": {
    "colab": {
      "provenance": [],
      "authorship_tag": "ABX9TyMlMqqzR7auvs86ipARn8ii",
      "include_colab_link": true
    },
    "kernelspec": {
      "name": "python3",
      "display_name": "Python 3"
    },
    "language_info": {
      "name": "python"
    }
  },
  "cells": [
    {
      "cell_type": "markdown",
      "metadata": {
        "id": "view-in-github",
        "colab_type": "text"
      },
      "source": [
        "<a href=\"https://colab.research.google.com/github/TokekPemberani/Pemrograman-Dasar/blob/main/FINAL%20PROGRAM%20ENDLESS.ipynb\" target=\"_parent\"><img src=\"https://colab.research.google.com/assets/colab-badge.svg\" alt=\"Open In Colab\"/></a>"
      ]
    },
    {
      "cell_type": "code",
      "execution_count": 5,
      "metadata": {
        "colab": {
          "base_uri": "https://localhost:8080/"
        },
        "id": "zY4xqT-RLql_",
        "outputId": "adc9cfc9-204e-4c4c-8730-d1098553b45a"
      },
      "outputs": [
        {
          "output_type": "stream",
          "name": "stdout",
          "text": [
            "--- Endless Karaoke Event Schedule with Nessy ---\n",
            "19:00 - 19:30: Opening and Welcome (featuring Nessy)\n",
            "19:30 - 20:30: First Karaoke Session: Popular Songs\n",
            "20:30 - 21:00: Interactive Games with Nessy\n",
            "21:00 - 22:00: Second Karaoke Session: Audience Choice Songs\n",
            "22:00 - 22:30: Game Winners and Doorprize Announcement (presented by Nessy)\n",
            "22:30 - End: Free Karaoke and Closing\n",
            "-------------------------------------------------\n"
          ]
        }
      ],
      "source": [
        "def nessy_karaoke_schedule():\n",
        "  \"\"\"schedule for a karaoke event with Nessy as the mascot.\"\"\"\n",
        "\n",
        "  schedule = {\n",
        "      \"19:00 - 19:30\": \"Opening and Welcome (featuring Nessy)\",\n",
        "      \"19:30 - 20:30\": \"First Karaoke Session: Popular Songs\",\n",
        "      \"20:30 - 21:00\": \"Interactive Games with Nessy\",\n",
        "      \"21:00 - 22:00\": \"Second Karaoke Session: Audience Choice Songs\",\n",
        "      \"22:00 - 22:30\": \"Game Winners and Doorprize Announcement (presented by Nessy)\",\n",
        "      \"22:30 - End\": \"Free Karaoke and Closing\"\n",
        "  }\n",
        "\n",
        "  print(\"--- Endless Karaoke Event Schedule with Nessy ---\")\n",
        "  for time, activity in schedule.items():\n",
        "    print(f\"{time}: {activity}\")\n",
        "  print(\"-------------------------------------------------\")\n",
        "\n",
        "# Call the function to display the schedule\n",
        "nessy_karaoke_schedule()"
      ]
    },
    {
      "cell_type": "code",
      "metadata": {
        "colab": {
          "base_uri": "https://localhost:8080/"
        },
        "id": "08b0e52e",
        "outputId": "77850266-a4d3-498a-c1bd-34fbacd5ae71"
      },
      "source": [
        "def nessy_karaoke_schedule():\n",
        "  \"\"\"schedule for a karaoke event with Nessy as the mascot.\"\"\"\n",
        "\n",
        "  schedule = {\n",
        "      \"19:00 - 19:30\": \"Opening and Welcome (featuring Nessy)\",\n",
        "      \"19:30 - 20:15\": \"First Karaoke Session: Popular Songs\",\n",
        "      \"20:15 - 20:45\": \"Nessy Trivia Challenge\",\n",
        "      \"20:45 - 21:30\": \"Second Karaoke Session: Audience Choice Songs\",\n",
        "      \"21:30 - 22:00\": \"Nessy Costume Contest\",\n",
        "      \"22:00 - 22:30\": \"Game Winners and Doorprize Announcement (presented by Nessy)\",\n",
        "      \"22:30 - End\": \"Free Karaoke and Closing\"\n",
        "  }\n",
        "\n",
        "  print(\"--- Endless Karaoke Event Schedule with Nessy ---\")\n",
        "  for time, activity in schedule.items():\n",
        "    print(f\"{time}: {activity}\")\n",
        "  print(\"-------------------------------------------------\")\n",
        "\n",
        "# Call the function to display the schedule\n",
        "nessy_karaoke_schedule()"
      ],
      "execution_count": 6,
      "outputs": [
        {
          "output_type": "stream",
          "name": "stdout",
          "text": [
            "--- Endless Karaoke Event Schedule with Nessy ---\n",
            "19:00 - 19:30: Opening and Welcome (featuring Nessy)\n",
            "19:30 - 20:15: First Karaoke Session: Popular Songs\n",
            "20:15 - 20:45: Nessy Trivia Challenge\n",
            "20:45 - 21:30: Second Karaoke Session: Audience Choice Songs\n",
            "21:30 - 22:00: Nessy Costume Contest\n",
            "22:00 - 22:30: Game Winners and Doorprize Announcement (presented by Nessy)\n",
            "22:30 - End: Free Karaoke and Closing\n",
            "-------------------------------------------------\n"
          ]
        }
      ]
    },
    {
      "cell_type": "code",
      "metadata": {
        "colab": {
          "base_uri": "https://localhost:8080/"
        },
        "id": "9d366f88",
        "outputId": "fde7f6e7-21ed-4333-edf3-064e1779761e"
      },
      "source": [
        "headline = \"Get Ready to Make a Splash! Endless Karaoke with Nessy!\"\n",
        "\n",
        "body_text = \"\"\"\n",
        "Dive into a night of unforgettable fun with everyone's favorite mascot, Nessy! Join us for our Endless Karaoke Event, where the music never stops and the good times keep rolling.\n",
        "\n",
        "Belt out your favorite tunes during our popular and audience-choice karaoke sessions. But it's not just about the singing! Get ready for exciting Nessy interactions, including the challenging Nessy Trivia Challenge and the dazzling Nessy Costume Contest. Show off your knowledge or your creative costume for a chance to win fantastic prizes!\n",
        "\n",
        "Experience a vibrant and fun-filled atmosphere perfect for friends and family. With Nessy by your side, every moment is guaranteed to be legendary!\n",
        "\"\"\"\n",
        "\n",
        "details = \"\"\"\n",
        "Date: [Insert Date Here]\n",
        "Time: 7:00 PM onwards\n",
        "Location: [Insert Location Here]\n",
        "\"\"\"\n",
        "\n",
        "call_to_action = \"Don't miss out on the most exciting event of the year! Grab your friends and join us for a night of endless entertainment!\"\n",
        "\n",
        "poster_text = f\"\"\"\n",
        "{headline}\n",
        "\n",
        "{body_text}\n",
        "\n",
        "{details}\n",
        "\n",
        "{call_to_action}\n",
        "\"\"\"\n",
        "\n",
        "print(poster_text)"
      ],
      "execution_count": 4,
      "outputs": [
        {
          "output_type": "stream",
          "name": "stdout",
          "text": [
            "\n",
            "Get Ready to Make a Splash! Endless Karaoke with Nessy!\n",
            "\n",
            "\n",
            "Dive into a night of unforgettable fun with everyone's favorite mascot, Nessy! Join us for our Endless Karaoke Event, where the music never stops and the good times keep rolling.\n",
            "\n",
            "Belt out your favorite tunes during our popular and audience-choice karaoke sessions. But it's not just about the singing! Get ready for exciting Nessy interactions, including the challenging Nessy Trivia Challenge and the dazzling Nessy Costume Contest. Show off your knowledge or your creative costume for a chance to win fantastic prizes!\n",
            "\n",
            "Experience a vibrant and fun-filled atmosphere perfect for friends and family. With Nessy by your side, every moment is guaranteed to be legendary!\n",
            "\n",
            "\n",
            "\n",
            "Date: [Insert Date Here]\n",
            "Time: 7:00 PM onwards\n",
            "Location: [Insert Location Here]\n",
            "\n",
            "\n",
            "Don't miss out on the most exciting event of the year! Grab your friends and join us for a night of endless entertainment!\n",
            "\n"
          ]
        }
      ]
    }
  ]
}