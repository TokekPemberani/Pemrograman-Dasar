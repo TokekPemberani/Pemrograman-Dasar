{
  "nbformat": 4,
  "nbformat_minor": 0,
  "metadata": {
    "colab": {
      "provenance": [],
      "authorship_tag": "ABX9TyOSwVrnWmpsDNXcTepY1VcY",
      "include_colab_link": true
    },
    "kernelspec": {
      "name": "python3",
      "display_name": "Python 3"
    },
    "language_info": {
      "name": "python"
    }
  },
  "cells": [
    {
      "cell_type": "markdown",
      "metadata": {
        "id": "view-in-github",
        "colab_type": "text"
      },
      "source": [
        "<a href=\"https://colab.research.google.com/github/TokekPemberani/Pemrograman-Dasar/blob/main/PERTEMUAN%206%20TUGAS%202.ipynb\" target=\"_parent\"><img src=\"https://colab.research.google.com/assets/colab-badge.svg\" alt=\"Open In Colab\"/></a>"
      ]
    },
    {
      "cell_type": "code",
      "source": [
        "def hitung_volume_kubus(sisi):\n",
        "    \"\"\"Menghitung volume kubus dari panjang sisinya.\"\"\"\n",
        "    return sisi ** 3  # volume kubus = sisi x sisi x sisi\n",
        "\n",
        "# Pemanggilan:\n",
        "panjang_sisi = 5\n",
        "print(f\"Volume kubus dengan sisi {panjang_sisi} adalah: {hitung_volume_kubus(panjang_sisi)}\")"
      ],
      "metadata": {
        "colab": {
          "base_uri": "https://localhost:8080/"
        },
        "id": "WPqk3TzUgVpy",
        "outputId": "a4a5087b-d668-424f-9595-d3ab1cae72b5"
      },
      "execution_count": 4,
      "outputs": [
        {
          "output_type": "stream",
          "name": "stdout",
          "text": [
            "Volume kubus dengan sisi 5 adalah: 125\n"
          ]
        }
      ]
    }
  ]
}