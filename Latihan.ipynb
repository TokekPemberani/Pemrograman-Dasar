{
  "nbformat": 4,
  "nbformat_minor": 0,
  "metadata": {
    "colab": {
      "provenance": [],
      "authorship_tag": "ABX9TyOBo7az1D2NTU6m7TD5kJqz",
      "include_colab_link": true
    },
    "kernelspec": {
      "name": "python3",
      "display_name": "Python 3"
    },
    "language_info": {
      "name": "python"
    }
  },
  "cells": [
    {
      "cell_type": "markdown",
      "metadata": {
        "id": "view-in-github",
        "colab_type": "text"
      },
      "source": [
        "<a href=\"https://colab.research.google.com/github/TokekPemberani/Pemrograman-Dasar/blob/main/Latihan.ipynb\" target=\"_parent\"><img src=\"https://colab.research.google.com/assets/colab-badge.svg\" alt=\"Open In Colab\"/></a>"
      ]
    },
    {
      "cell_type": "code",
      "execution_count": null,
      "metadata": {
        "colab": {
          "base_uri": "https://localhost:8080/"
        },
        "id": "iOH5qpNb2SDL",
        "outputId": "91d81fd9-d009-49dc-e8e1-e0b02284fcec"
      },
      "outputs": [
        {
          "output_type": "stream",
          "name": "stdout",
          "text": [
            "Subtotal: Rp 400,000.00\n",
            "Diskon: Rp 60,000.00\n",
            "Harga setelah diskon: Rp 340,000.00\n",
            "PPN (11%): Rp 37,400.00\n",
            "\n",
            "Total yang harus dibayar: Rp 377,400.00\n"
          ]
        }
      ],
      "source": [
        "# Data belanja customer\n",
        "subtotal = 400000   # total belanja customer\n",
        "member = True       # status member (True = member, False = bukan)\n",
        "\n",
        "print(f\"Subtotal: Rp {subtotal:,.2f}\")\n",
        "\n",
        "# Hitung diskon\n",
        "if member and subtotal > 100000:\n",
        "    diskon = 0.15 * subtotal\n",
        "else:\n",
        "    diskon = 0\n",
        "\n",
        "print(f\"Diskon: Rp {diskon:,.2f}\")\n",
        "\n",
        "# Harga setelah diskon\n",
        "harga_setelah_diskon = subtotal - diskon\n",
        "print(f\"Harga setelah diskon: Rp {harga_setelah_diskon:,.2f}\")\n",
        "\n",
        "# Hitung PPN 11%\n",
        "ppn = 0.11 * harga_setelah_diskon\n",
        "print(f\"PPN (11%): Rp {ppn:,.2f}\")\n",
        "\n",
        "# Total akhir\n",
        "total_akhir = harga_setelah_diskon + ppn\n",
        "print(f\"\\nTotal yang harus dibayar: Rp {total_akhir:,.2f}\")"
      ]
    },
    {
      "cell_type": "code",
      "source": [
        "tahun = 2032\n",
        "\n",
        "if (tahun % 4 == 0 and tahun % 100 != 0) or (tahun % 400 == 0):\n",
        "    print(f\"{tahun} adalah tahun kabisat.\")\n",
        "else:\n",
        "    print(f\"{tahun} bukan tahun kabisat.\")\n"
      ],
      "metadata": {
        "colab": {
          "base_uri": "https://localhost:8080/"
        },
        "id": "h_UeU1WEMcU4",
        "outputId": "fbc9f9c6-da0c-45e5-baca-4d44d75e9624"
      },
      "execution_count": 2,
      "outputs": [
        {
          "output_type": "stream",
          "name": "stdout",
          "text": [
            "2032 adalah tahun kabisat.\n"
          ]
        }
      ]
    }
  ]
}