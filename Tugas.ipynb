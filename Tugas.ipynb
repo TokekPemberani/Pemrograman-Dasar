{
  "nbformat": 4,
  "nbformat_minor": 0,
  "metadata": {
    "colab": {
      "provenance": [],
      "authorship_tag": "ABX9TyOKoOStDZU+yCJn6lTyRdT3",
      "include_colab_link": true
    },
    "kernelspec": {
      "name": "python3",
      "display_name": "Python 3"
    },
    "language_info": {
      "name": "python"
    }
  },
  "cells": [
    {
      "cell_type": "markdown",
      "metadata": {
        "id": "view-in-github",
        "colab_type": "text"
      },
      "source": [
        "<a href=\"https://colab.research.google.com/github/TokekPemberani/Pemrograman-Dasar/blob/main/Tugas.ipynb\" target=\"_parent\"><img src=\"https://colab.research.google.com/assets/colab-badge.svg\" alt=\"Open In Colab\"/></a>"
      ]
    },
    {
      "cell_type": "code",
      "execution_count": null,
      "metadata": {
        "colab": {
          "base_uri": "https://localhost:8080/"
        },
        "id": "iOH5qpNb2SDL",
        "outputId": "91d81fd9-d009-49dc-e8e1-e0b02284fcec"
      },
      "outputs": [
        {
          "output_type": "stream",
          "name": "stdout",
          "text": [
            "Subtotal: Rp 400,000.00\n",
            "Diskon: Rp 60,000.00\n",
            "Harga setelah diskon: Rp 340,000.00\n",
            "PPN (11%): Rp 37,400.00\n",
            "\n",
            "Total yang harus dibayar: Rp 377,400.00\n"
          ]
        }
      ],
      "source": [
        "# Data belanja customer\n",
        "subtotal = 400000   # total belanja customer\n",
        "member = True       # status member (True = member, False = bukan)\n",
        "\n",
        "print(f\"Subtotal: Rp {subtotal:,.2f}\")\n",
        "\n",
        "# Hitung diskon\n",
        "if member and subtotal > 100000:\n",
        "    diskon = 0.15 * subtotal\n",
        "else:\n",
        "    diskon = 0\n",
        "\n",
        "print(f\"Diskon: Rp {diskon:,.2f}\")\n",
        "\n",
        "# Harga setelah diskon\n",
        "harga_setelah_diskon = subtotal - diskon\n",
        "print(f\"Harga setelah diskon: Rp {harga_setelah_diskon:,.2f}\")\n",
        "\n",
        "# Hitung PPN 11%\n",
        "ppn = 0.11 * harga_setelah_diskon\n",
        "print(f\"PPN (11%): Rp {ppn:,.2f}\")\n",
        "\n",
        "# Total akhir\n",
        "total_akhir = harga_setelah_diskon + ppn\n",
        "print(f\"\\nTotal yang harus dibayar: Rp {total_akhir:,.2f}\")"
      ]
    }
  ]
}