{
  "nbformat": 4,
  "nbformat_minor": 0,
  "metadata": {
    "colab": {
      "provenance": [],
      "authorship_tag": "ABX9TyORCh+v9scgHCAFVRoW0uHQ",
      "include_colab_link": true
    },
    "kernelspec": {
      "name": "python3",
      "display_name": "Python 3"
    },
    "language_info": {
      "name": "python"
    }
  },
  "cells": [
    {
      "cell_type": "markdown",
      "metadata": {
        "id": "view-in-github",
        "colab_type": "text"
      },
      "source": [
        "<a href=\"https://colab.research.google.com/github/TokekPemberani/Pemrograman-Dasar/blob/main/praktikum%207.ipynb\" target=\"_parent\"><img src=\"https://colab.research.google.com/assets/colab-badge.svg\" alt=\"Open In Colab\"/></a>"
      ]
    },
    {
      "cell_type": "code",
      "source": [
        "print(\"--- Soal 7 ---\")\n",
        "\n",
        "kelurahan = [\n",
        "    \"Baloi Permai\", \"Batam Kota\", \"Belian\", \"Bengkong Indah\",\n",
        "    \"Tanjung Uma\", \"Lubuk Baja Kota\", \"Sei Panas\", \"Kampung Seraya\",\n",
        "    \"Buliang\", \"Sungai Langkai\", \"Tembesi\", \"Muka Kuning\",\n",
        "    \"Teluk Tering\", \"Batu Merah\", \"Batu Besar\", \"Nongsa\", \"Kabil\",\n",
        "    \"Tanjung Sengkuang\", \"Kibing\", \"Tanjung Riau\"\n",
        "]\n",
        "\n",
        "print(\"\\nDaftar Kelurahan di Kota Batam\")\n",
        "print(\"-\" * 30)\n",
        "\n",
        "for i, nama in enumerate(kelurahan, start=1):\n",
        "    print(f\"Kelurahan ke-{i:<2} : {nama}\")\n"
      ],
      "metadata": {
        "colab": {
          "base_uri": "https://localhost:8080/"
        },
        "id": "Ng06pAiunjHn",
        "outputId": "8973641b-92de-4371-85bd-0b5c38b9e564"
      },
      "execution_count": 8,
      "outputs": [
        {
          "output_type": "stream",
          "name": "stdout",
          "text": [
            "--- Soal 7 ---\n",
            "\n",
            "Daftar Kelurahan di Kota Batam\n",
            "------------------------------\n",
            "Kelurahan ke-1  : Baloi Permai\n",
            "Kelurahan ke-2  : Batam Kota\n",
            "Kelurahan ke-3  : Belian\n",
            "Kelurahan ke-4  : Bengkong Indah\n",
            "Kelurahan ke-5  : Tanjung Uma\n",
            "Kelurahan ke-6  : Lubuk Baja Kota\n",
            "Kelurahan ke-7  : Sei Panas\n",
            "Kelurahan ke-8  : Kampung Seraya\n",
            "Kelurahan ke-9  : Buliang\n",
            "Kelurahan ke-10 : Sungai Langkai\n",
            "Kelurahan ke-11 : Tembesi\n",
            "Kelurahan ke-12 : Muka Kuning\n",
            "Kelurahan ke-13 : Teluk Tering\n",
            "Kelurahan ke-14 : Batu Merah\n",
            "Kelurahan ke-15 : Batu Besar\n",
            "Kelurahan ke-16 : Nongsa\n",
            "Kelurahan ke-17 : Kabil\n",
            "Kelurahan ke-18 : Tanjung Sengkuang\n",
            "Kelurahan ke-19 : Kibing\n",
            "Kelurahan ke-20 : Tanjung Riau\n"
          ]
        }
      ]
    }
  ]
}