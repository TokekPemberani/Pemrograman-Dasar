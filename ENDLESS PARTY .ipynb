{
  "nbformat": 4,
  "nbformat_minor": 0,
  "metadata": {
    "colab": {
      "provenance": [],
      "authorship_tag": "ABX9TyMVZrMBhtadch+CGumgl5Pi",
      "include_colab_link": true
    },
    "kernelspec": {
      "name": "python3",
      "display_name": "Python 3"
    },
    "language_info": {
      "name": "python"
    }
  },
  "cells": [
    {
      "cell_type": "markdown",
      "metadata": {
        "id": "view-in-github",
        "colab_type": "text"
      },
      "source": [
        "<a href=\"https://colab.research.google.com/github/TokekPemberani/Pemrograman-Dasar/blob/main/ENDLESS%20PARTY%20.ipynb\" target=\"_parent\"><img src=\"https://colab.research.google.com/assets/colab-badge.svg\" alt=\"Open In Colab\"/></a>"
      ]
    },
    {
      "cell_type": "code",
      "execution_count": 2,
      "metadata": {
        "colab": {
          "base_uri": "https://localhost:8080/"
        },
        "id": "zY4xqT-RLql_",
        "outputId": "9b5abe6d-79de-4ff4-804d-06ad6d0ab620"
      },
      "outputs": [
        {
          "output_type": "stream",
          "name": "stdout",
          "text": [
            "--- Endless Karaoke Event Schedule with Nessy ---\n",
            "19:00 - 19:30: Opening and Welcome (featuring Nessy)\n",
            "19:30 - 20:30: First Karaoke Session: Popular Songs\n",
            "20:30 - 21:00: Interactive Games with Nessy\n",
            "21:00 - 22:00: Second Karaoke Session: Audience Choice Songs\n",
            "22:00 - 22:30: Game Winners and Doorprize Announcement (presented by Nessy)\n",
            "22:30 - End: Free Karaoke and Closing\n",
            "-------------------------------------------------\n"
          ]
        }
      ],
      "source": [
        "def nessy_karaoke_schedule():\n",
        "  \"\"\"Generates a schedule for a karaoke event with Nessy as the mascot.\"\"\"\n",
        "\n",
        "  schedule = {\n",
        "      \"19:00 - 19:30\": \"Opening and Welcome (featuring Nessy)\",\n",
        "      \"19:30 - 20:30\": \"First Karaoke Session: Popular Songs\",\n",
        "      \"20:30 - 21:00\": \"Interactive Games with Nessy\",\n",
        "      \"21:00 - 22:00\": \"Second Karaoke Session: Audience Choice Songs\",\n",
        "      \"22:00 - 22:30\": \"Game Winners and Doorprize Announcement (presented by Nessy)\",\n",
        "      \"22:30 - End\": \"Free Karaoke and Closing\"\n",
        "  }\n",
        "\n",
        "  print(\"--- Endless Karaoke Event Schedule with Nessy ---\")\n",
        "  for time, activity in schedule.items():\n",
        "    print(f\"{time}: {activity}\")\n",
        "  print(\"-------------------------------------------------\")\n",
        "\n",
        "# Call the function to display the schedule\n",
        "nessy_karaoke_schedule()"
      ]
    },
    {
      "cell_type": "markdown",
      "metadata": {
        "id": "06f38afe"
      },
      "source": [
        "# Task\n",
        "Create an endless event schedule with Nessy as the mascot, including a karaoke schedule, engaging activities, and persuasive poster content, all in English."
      ]
    },
    {
      "cell_type": "markdown",
      "metadata": {
        "id": "599ed49e"
      },
      "source": [
        "## Modify schedule\n",
        "\n",
        "### Subtask:\n",
        "Add more engaging activities to the existing karaoke schedule.\n"
      ]
    },
    {
      "cell_type": "markdown",
      "metadata": {
        "id": "9b60d12e"
      },
      "source": [
        "**Reasoning**:\n",
        "The subtask is to add more engaging activities to the existing karaoke schedule. I will modify the `nessy_karaoke_schedule` function to include additional activities like a Nessy costume contest and a Nessy trivia game and update the printed output.\n",
        "\n"
      ]
    },
    {
      "cell_type": "code",
      "metadata": {
        "colab": {
          "base_uri": "https://localhost:8080/"
        },
        "id": "08b0e52e",
        "outputId": "71cc9cf7-7a32-42f5-c286-741b09a7dc39"
      },
      "source": [
        "def nessy_karaoke_schedule():\n",
        "  \"\"\"schedule for a karaoke event with Nessy as the mascot.\"\"\"\n",
        "\n",
        "  schedule = {\n",
        "      \"19:00 - 19:30\": \"Opening and Welcome (featuring Nessy)\",\n",
        "      \"19:30 - 20:15\": \"First Karaoke Session: Popular Songs\",\n",
        "      \"20:15 - 20:45\": \"Nessy Trivia Challenge\",\n",
        "      \"20:45 - 21:30\": \"Second Karaoke Session: Audience Choice Songs\",\n",
        "      \"21:30 - 22:00\": \"Nessy Costume Contest\",\n",
        "      \"22:00 - 22:30\": \"Game Winners and Doorprize Announcement (presented by Nessy)\",\n",
        "      \"22:30 - End\": \"Free Karaoke and Closing\"\n",
        "  }\n",
        "\n",
        "  print(\"--- Endless Karaoke Event Schedule with Nessy ---\")\n",
        "  for time, activity in schedule.items():\n",
        "    print(f\"{time}: {activity}\")\n",
        "  print(\"-------------------------------------------------\")\n",
        "\n",
        "# Call the function to display the schedule\n",
        "nessy_karaoke_schedule()"
      ],
      "execution_count": 3,
      "outputs": [
        {
          "output_type": "stream",
          "name": "stdout",
          "text": [
            "--- Endless Karaoke Event Schedule with Nessy ---\n",
            "19:00 - 19:30: Opening and Welcome (featuring Nessy)\n",
            "19:30 - 20:15: First Karaoke Session: Popular Songs\n",
            "20:15 - 20:45: Nessy Trivia Challenge\n",
            "20:45 - 21:30: Second Karaoke Session: Audience Choice Songs\n",
            "21:30 - 22:00: Nessy Costume Contest\n",
            "22:00 - 22:30: Game Winners and Doorprize Announcement (presented by Nessy)\n",
            "22:30 - End: Free Karaoke and Closing\n",
            "-------------------------------------------------\n"
          ]
        }
      ]
    },
    {
      "cell_type": "markdown",
      "metadata": {
        "id": "52edfddf"
      },
      "source": [
        "## Generate poster content\n",
        "\n",
        "### Subtask:\n",
        "Create persuasive text content for a poster promoting the event.\n"
      ]
    },
    {
      "cell_type": "markdown",
      "metadata": {
        "id": "727ef427"
      },
      "source": [
        "**Reasoning**:\n",
        "Draft the persuasive poster text based on the instructions provided, including headline, body text, essential details, and a call to action.\n",
        "\n"
      ]
    },
    {
      "cell_type": "code",
      "metadata": {
        "colab": {
          "base_uri": "https://localhost:8080/"
        },
        "id": "9d366f88",
        "outputId": "fde7f6e7-21ed-4333-edf3-064e1779761e"
      },
      "source": [
        "headline = \"Get Ready to Make a Splash! Endless Karaoke with Nessy!\"\n",
        "\n",
        "body_text = \"\"\"\n",
        "Dive into a night of unforgettable fun with everyone's favorite mascot, Nessy! Join us for our Endless Karaoke Event, where the music never stops and the good times keep rolling.\n",
        "\n",
        "Belt out your favorite tunes during our popular and audience-choice karaoke sessions. But it's not just about the singing! Get ready for exciting Nessy interactions, including the challenging Nessy Trivia Challenge and the dazzling Nessy Costume Contest. Show off your knowledge or your creative costume for a chance to win fantastic prizes!\n",
        "\n",
        "Experience a vibrant and fun-filled atmosphere perfect for friends and family. With Nessy by your side, every moment is guaranteed to be legendary!\n",
        "\"\"\"\n",
        "\n",
        "details = \"\"\"\n",
        "Date: [Insert Date Here]\n",
        "Time: 7:00 PM onwards\n",
        "Location: [Insert Location Here]\n",
        "\"\"\"\n",
        "\n",
        "call_to_action = \"Don't miss out on the most exciting event of the year! Grab your friends and join us for a night of endless entertainment!\"\n",
        "\n",
        "poster_text = f\"\"\"\n",
        "{headline}\n",
        "\n",
        "{body_text}\n",
        "\n",
        "{details}\n",
        "\n",
        "{call_to_action}\n",
        "\"\"\"\n",
        "\n",
        "print(poster_text)"
      ],
      "execution_count": 4,
      "outputs": [
        {
          "output_type": "stream",
          "name": "stdout",
          "text": [
            "\n",
            "Get Ready to Make a Splash! Endless Karaoke with Nessy!\n",
            "\n",
            "\n",
            "Dive into a night of unforgettable fun with everyone's favorite mascot, Nessy! Join us for our Endless Karaoke Event, where the music never stops and the good times keep rolling.\n",
            "\n",
            "Belt out your favorite tunes during our popular and audience-choice karaoke sessions. But it's not just about the singing! Get ready for exciting Nessy interactions, including the challenging Nessy Trivia Challenge and the dazzling Nessy Costume Contest. Show off your knowledge or your creative costume for a chance to win fantastic prizes!\n",
            "\n",
            "Experience a vibrant and fun-filled atmosphere perfect for friends and family. With Nessy by your side, every moment is guaranteed to be legendary!\n",
            "\n",
            "\n",
            "\n",
            "Date: [Insert Date Here]\n",
            "Time: 7:00 PM onwards\n",
            "Location: [Insert Location Here]\n",
            "\n",
            "\n",
            "Don't miss out on the most exciting event of the year! Grab your friends and join us for a night of endless entertainment!\n",
            "\n"
          ]
        }
      ]
    }
  ]
}