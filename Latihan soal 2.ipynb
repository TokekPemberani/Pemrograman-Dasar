{
  "nbformat": 4,
  "nbformat_minor": 0,
  "metadata": {
    "colab": {
      "provenance": [],
      "authorship_tag": "ABX9TyPXNAG4bVBD67nE9TPKgaoj",
      "include_colab_link": true
    },
    "kernelspec": {
      "name": "python3",
      "display_name": "Python 3"
    },
    "language_info": {
      "name": "python"
    }
  },
  "cells": [
    {
      "cell_type": "markdown",
      "metadata": {
        "id": "view-in-github",
        "colab_type": "text"
      },
      "source": [
        "<a href=\"https://colab.research.google.com/github/TokekPemberani/Pemrograman-Dasar/blob/main/Latihan%20soal%202.ipynb\" target=\"_parent\"><img src=\"https://colab.research.google.com/assets/colab-badge.svg\" alt=\"Open In Colab\"/></a>"
      ]
    },
    {
      "cell_type": "code",
      "source": [
        "# Fungsi untuk menghitung luas dan keliling persegi panjang\n",
        "def persegi_panjang(panjang, lebar):\n",
        "    luas = panjang * lebar\n",
        "    keliling = 2 * (panjang + lebar)\n",
        "    return luas, keliling\n",
        "\n",
        "# Input\n",
        "panjang = float(input(\"Masukkan panjang: \"))\n",
        "lebar = float(input(\"Masukkan lebar: \"))\n",
        "\n",
        "# Proses\n",
        "luas, keliling = persegi_panjang(panjang, lebar)\n",
        "\n",
        "# Output\n",
        "print(f\"Luas persegi panjang: {luas}\")\n",
        "print(f\"Keliling persegi panjang: {keliling}\")\n"
      ],
      "metadata": {
        "colab": {
          "base_uri": "https://localhost:8080/"
        },
        "id": "fLfgKQvsPiFU",
        "outputId": "d2d0393a-55f6-4cf2-e77a-3f3b912fd723"
      },
      "execution_count": 3,
      "outputs": [
        {
          "output_type": "stream",
          "name": "stdout",
          "text": [
            "Masukkan panjang: 15\n",
            "Masukkan lebar: 8\n",
            "Luas persegi panjang: 120.0\n",
            "Keliling persegi panjang: 46.0\n"
          ]
        }
      ]
    }
  ]
}