{
  "nbformat": 4,
  "nbformat_minor": 0,
  "metadata": {
    "colab": {
      "provenance": [],
      "authorship_tag": "ABX9TyN/75YFc+becfoyOo78ucBZ",
      "include_colab_link": true
    },
    "kernelspec": {
      "name": "python3",
      "display_name": "Python 3"
    },
    "language_info": {
      "name": "python"
    }
  },
  "cells": [
    {
      "cell_type": "markdown",
      "metadata": {
        "id": "view-in-github",
        "colab_type": "text"
      },
      "source": [
        "<a href=\"https://colab.research.google.com/github/TokekPemberani/Pemrograman-Dasar/blob/main/PERTEMUAN%206%20SOAL%201.ipynb\" target=\"_parent\"><img src=\"https://colab.research.google.com/assets/colab-badge.svg\" alt=\"Open In Colab\"/></a>"
      ]
    },
    {
      "cell_type": "code",
      "source": [
        "def sapa_praktikan(nama):\n",
        "    \"\"\"Mencetak pesan sambutan dasar.\"\"\"\n",
        "    print(\"Sistem siap. Selamat datang kembali di sesi praktikum,\", nama + \"!\")\n",
        "\n",
        "# Pemanggilan fungsi sapa_praktikan\n",
        "sapa_praktikan(\"Radot Calvin Pandapotan Nainggolan\")\n",
        "# Fungsi untuk menampilkan biodata lengkap\n",
        "def biodata():\n",
        "    print(\"===== BIODATA DIRI =====\")\n",
        "    print(\"Nama      : Radot calvin Pandapotan Nainggolan\")\n",
        "    print(\"NIM       : 4232411017\")\n",
        "    print(\"Jurusan   : Teknik Elektro\")\n",
        "    print(\"Prodi     : Rekayasa Pembangkit Energi\")\n",
        "    print(\"Kelas     : RPE MA\")\n",
        "\n",
        "# Pemanggilan fungsi biodata\n",
        "biodata()\n"
      ],
      "metadata": {
        "id": "ulu-39ixPv64",
        "colab": {
          "base_uri": "https://localhost:8080/"
        },
        "outputId": "892ddd5a-c4d8-4a41-906b-258d9729ede9"
      },
      "execution_count": 2,
      "outputs": [
        {
          "output_type": "stream",
          "name": "stdout",
          "text": [
            "Sistem siap. Selamat datang kembali di sesi praktikum, Radot Calvin Pandapotan Nainggolan!\n",
            "===== BIODATA DIRI =====\n",
            "Nama      : Radot calvin Pandapotan Nainggolan\n",
            "NIM       : 4232411017\n",
            "Jurusan   : Teknik Elektro\n",
            "Prodi     : Rekayasa Pembangkit Energi\n",
            "Kelas     : RPE MA\n"
          ]
        }
      ]
    }
  ]
}